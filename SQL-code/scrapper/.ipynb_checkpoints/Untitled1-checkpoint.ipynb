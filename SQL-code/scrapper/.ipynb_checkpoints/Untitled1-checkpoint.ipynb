{
 "cells": [
  {
   "cell_type": "code",
   "execution_count": 1,
   "id": "49403d54",
   "metadata": {},
   "outputs": [
    {
     "name": "stderr",
     "output_type": "stream",
     "text": [
      "/Users/peteraugerinos/opt/anaconda3/lib/python3.9/site-packages/requests/__init__.py:89: RequestsDependencyWarning: urllib3 (1.26.15) or chardet (3.0.4) doesn't match a supported version!\n",
      "  warnings.warn(\"urllib3 ({}) or chardet ({}) doesn't match a supported \"\n"
     ]
    }
   ],
   "source": [
    "import mysql.connector\n",
    "import json\n",
    "import numpy as np"
   ]
  },
  {
   "cell_type": "code",
   "execution_count": 2,
   "id": "9adfcc12",
   "metadata": {},
   "outputs": [],
   "source": [
    "connection = mysql.connector.connect(\n",
    "    host = \"localhost\",\n",
    "    user = \"root\",\n",
    "    password = \"trage3dy\",\n",
    "    database = \"school_library\"\n",
    ")"
   ]
  },
  {
   "cell_type": "code",
   "execution_count": 3,
   "id": "17dd9f7f",
   "metadata": {},
   "outputs": [],
   "source": [
    "db_Info = connection.get_server_info()"
   ]
  },
  {
   "cell_type": "code",
   "execution_count": 4,
   "id": "fbbcfdd7",
   "metadata": {},
   "outputs": [],
   "source": [
    "cursor = connection.cursor(buffered=True)"
   ]
  },
  {
   "cell_type": "code",
   "execution_count": 5,
   "id": "d23c2e33",
   "metadata": {},
   "outputs": [
    {
     "name": "stdout",
     "output_type": "stream",
     "text": [
      "You're connected to database:  ('school_library',)\n"
     ]
    }
   ],
   "source": [
    "cursor.execute(\"select database();\")\n",
    "record = cursor.fetchone()\n",
    "print(\"You're connected to database: \", record)"
   ]
  },
  {
   "cell_type": "code",
   "execution_count": 6,
   "id": "acb46f49",
   "metadata": {},
   "outputs": [],
   "source": [
    "with open('books.json', 'r') as file:\n",
    "    data = json.load(file)"
   ]
  },
  {
   "cell_type": "code",
   "execution_count": 7,
   "id": "131bf120",
   "metadata": {},
   "outputs": [],
   "source": [
    "with open('writers_insertions.sql', 'w') as f, open('book_writers_insertions.sql', 'w') as l:\n",
    "    for i, book in enumerate(data):\n",
    "        writers = []\n",
    "        if ',' in book['Συγγραφέας']:\n",
    "            writers_mini_list = book['Συγγραφέας'].split(',')\n",
    "            for writer in writers_mini_list:\n",
    "                writers.append(writer)\n",
    "        elif '-' in book['Συγγραφέας']:\n",
    "            writers_mini_list = book['Συγγραφέας'].split('-')\n",
    "            for writer in writers_mini_list:\n",
    "                writers.append(writer)\n",
    "        else:\n",
    "            writers.append(book['Συγγραφέας'])\n",
    "        for j in range(len(writers)):\n",
    "            try:\n",
    "                last_name = writers[j].strip().split(' ')[0]\n",
    "                first_name = ''\n",
    "                for item in writers[j].strip().split(' ')[1:]:\n",
    "                    first_name += f' {item}'\n",
    "                first_name = first_name.strip()\n",
    "            except (ValueError):\n",
    "                last_name = writers[j].strip().split(' ')[0]\n",
    "                first_name = ''\n",
    "            search_query = f\"SELECT first_name, last_name from writer where first_name = '{first_name}' and last_name = '{last_name}';\"\n",
    "            cursor.execute(search_query)\n",
    "            rs = cursor.fetchone()\n",
    "            if not rs:\n",
    "                writer_insertion_query = f\"INSERT INTO writer (first_name, last_name) VALUES ('{first_name}', '{last_name}');\"\n",
    "                inserts = cursor.execute(writer_insertion_query)\n",
    "                f.write(f\"INSERT INTO writer (first_name, last_name) VALUES ('{first_name}', '{last_name}');\\n\")\n",
    "            id_writer_query = f\"SELECT id FROM writer where first_name = '{first_name}' and last_name = '{last_name}';\"\n",
    "            id_book_query = f\"SELECT id FROM book where title = '{book['Τίτλος']}';\"\n",
    "            rs_writer_id_exec = cursor.execute(id_writer_query)\n",
    "            writer_ids = cursor.fetchone()\n",
    "            rs_book_id_exec = cursor.execute(id_book_query)\n",
    "            book_ids = cursor.fetchone()\n",
    "            l.write(f\"INSERT INTO book_writer (book_id, writer_id) VALUES ('{book_ids[0]}', '{writer_ids[0]}');\\n\")\n",
    "\n",
    "connection.commit()"
   ]
  }
 ],
 "metadata": {
  "kernelspec": {
   "display_name": "Python 3 (ipykernel)",
   "language": "python",
   "name": "python3"
  },
  "language_info": {
   "codemirror_mode": {
    "name": "ipython",
    "version": 3
   },
   "file_extension": ".py",
   "mimetype": "text/x-python",
   "name": "python",
   "nbconvert_exporter": "python",
   "pygments_lexer": "ipython3",
   "version": "3.9.13"
  }
 },
 "nbformat": 4,
 "nbformat_minor": 5
}
