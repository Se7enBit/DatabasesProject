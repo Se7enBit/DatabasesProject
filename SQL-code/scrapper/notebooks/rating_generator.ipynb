{
 "cells": [
  {
   "cell_type": "code",
   "execution_count": 1,
   "id": "06f8896c",
   "metadata": {},
   "outputs": [],
   "source": [
    "import mysql.connector\n",
    "import pandas as pd\n",
    "import random as rand"
   ]
  },
  {
   "cell_type": "code",
   "execution_count": 2,
   "id": "bfc8f96e",
   "metadata": {},
   "outputs": [],
   "source": [
    "mydb = mysql.connector.connect( host = 'localhost',\n",
    "                                user = 'root',\n",
    "                                database = 'school_library'\n",
    "                               )"
   ]
  },
  {
   "cell_type": "code",
   "execution_count": 3,
   "id": "4dca7b8e",
   "metadata": {},
   "outputs": [],
   "source": [
    "mycursor = mydb.cursor(buffered=True)"
   ]
  },
  {
   "cell_type": "code",
   "execution_count": 4,
   "id": "89c048b2",
   "metadata": {},
   "outputs": [],
   "source": [
    "mycursor.execute('SELECT * FROM app_user')\n",
    "app_user = mycursor.fetchall()"
   ]
  },
  {
   "cell_type": "code",
   "execution_count": 5,
   "id": "f920b8ea",
   "metadata": {},
   "outputs": [],
   "source": [
    "df = pd.read_csv('../archive/Books_rating.csv')"
   ]
  },
  {
   "cell_type": "code",
   "execution_count": 6,
   "id": "d559e984",
   "metadata": {},
   "outputs": [],
   "source": [
    "df.rename(columns = {'review/score' : 'score',\n",
    "                    'review/text' : 'text',\n",
    "                    'review/summary' : 'summary'},\n",
    "                     inplace = True)\n",
    "df = df.drop(columns = ['Title', 'Price', 'User_id',\n",
    "                        'profileName', 'review/time',\n",
    "                        'review/helpfulness'])\n",
    "df['score'] = df['score'].astype(int)\n",
    "df = df.dropna()"
   ]
  },
  {
   "cell_type": "code",
   "execution_count": 7,
   "id": "f7b86d51",
   "metadata": {},
   "outputs": [],
   "source": [
    "def cleanText(text):\n",
    "    text = text.replace(u'\\xa0', u'')\n",
    "    text = text.replace(u\"'\", u'')\n",
    "    text = text.lstrip('\\n')\n",
    "    text = text.lstrip('\"')\n",
    "    text = text.rstrip('\\n')\n",
    "    text = text.rstrip(';')\n",
    "    text = text.rstrip('\"')\n",
    "    text = text.replace('\"\"', '\"')\n",
    "    text = text.replace(';\"', '')\n",
    "    text = text.replace('\";', '')\n",
    "    text = text.replace('&amp\"', '&')\n",
    "    text = text.replace('\"', '')\n",
    "    return text"
   ]
  },
  {
   "cell_type": "code",
   "execution_count": 9,
   "id": "99f17ec5",
   "metadata": {},
   "outputs": [],
   "source": [
    "with open('rating_insertions.sql', 'a') as f:\n",
    "    \n",
    "    for user in app_user[6:]:\n",
    "\n",
    "        mycursor.execute(f'SELECT school FROM app_user WHERE app_user.id = {user[0]};')\n",
    "        school = mycursor.fetchone()[0]\n",
    "\n",
    "        find_book_in_school_query = f'SELECT DISTINCT book_id\\\n",
    "                                    FROM book_copies_per_school\\\n",
    "                                    WHERE school_id = {school};'\n",
    "\n",
    "        mycursor.execute(find_book_in_school_query)\n",
    "        books = mycursor.fetchall()\n",
    "\n",
    "        for i in range(rand.randint(0, 10)):\n",
    "            sample_row = df.sample()\n",
    "            score = sample_row['score'].values[0]\n",
    "            text = cleanText(sample_row['summary'].values[0])\n",
    "            df = df.drop(sample_row.index)\n",
    "            f.write(f'INSERT INTO book_rating (book_id, app_user_id, rating, comments, is_published) VALUES ({rand.choice(books)[0]}, {user[0]}, \"{score}\", \"{text}\", 1);\\n')"
   ]
  }
 ],
 "metadata": {
  "kernelspec": {
   "display_name": "Python 3 (ipykernel)",
   "language": "python",
   "name": "python3"
  },
  "language_info": {
   "codemirror_mode": {
    "name": "ipython",
    "version": 3
   },
   "file_extension": ".py",
   "mimetype": "text/x-python",
   "name": "python",
   "nbconvert_exporter": "python",
   "pygments_lexer": "ipython3",
   "version": "3.9.13"
  }
 },
 "nbformat": 4,
 "nbformat_minor": 5
}
