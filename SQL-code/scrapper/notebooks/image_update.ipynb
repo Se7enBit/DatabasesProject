{
 "cells": [
  {
   "cell_type": "code",
   "execution_count": 41,
   "id": "deef28ef",
   "metadata": {},
   "outputs": [],
   "source": [
    "import os\n",
    "\n",
    "os.chdir(f'../../new_and_improved/images/')\n",
    "path = os.getcwd()\n",
    "path = path + '/'\n",
    "with open('../../new_and_improved/Database/image_update.sql', 'w') as l:\n",
    "    for i in range(120):\n",
    "        with open(f'{i}.png', 'rb') as f:\n",
    "            image_path = path + f'{i}.png'\n",
    "            array = f.read()\n",
    "            l.write(f\"UPDATE book SET image = LOAD_FILE('{image_path}') WHERE id = {i+1};\\n\")   "
   ]
  }
 ],
 "metadata": {
  "kernelspec": {
   "display_name": "Python 3 (ipykernel)",
   "language": "python",
   "name": "python3"
  },
  "language_info": {
   "codemirror_mode": {
    "name": "ipython",
    "version": 3
   },
   "file_extension": ".py",
   "mimetype": "text/x-python",
   "name": "python",
   "nbconvert_exporter": "python",
   "pygments_lexer": "ipython3",
   "version": "3.9.13"
  }
 },
 "nbformat": 4,
 "nbformat_minor": 5
}
