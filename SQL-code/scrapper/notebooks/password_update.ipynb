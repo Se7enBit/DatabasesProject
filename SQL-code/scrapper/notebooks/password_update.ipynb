{
 "cells": [
  {
   "cell_type": "code",
   "execution_count": 1,
   "id": "76aa4cb8",
   "metadata": {},
   "outputs": [],
   "source": [
    "import mysql.connector\n",
    "import pandas as pd\n",
    "import random as rand"
   ]
  },
  {
   "cell_type": "code",
   "execution_count": 2,
   "id": "5d29ad69",
   "metadata": {},
   "outputs": [],
   "source": [
    "mydb = mysql.connector.connect( host = 'localhost',\n",
    "                                user = 'root',\n",
    "                                database = 'school_library'\n",
    "                               )"
   ]
  },
  {
   "cell_type": "code",
   "execution_count": 3,
   "id": "4ea2a4a5",
   "metadata": {},
   "outputs": [],
   "source": [
    "mycursor = mydb.cursor(buffered=True)"
   ]
  },
  {
   "cell_type": "code",
   "execution_count": 7,
   "id": "7b59109e",
   "metadata": {},
   "outputs": [],
   "source": [
    "mycursor.execute('SELECT id, userpassword FROM app_user')\n",
    "app_user = mycursor.fetchall()"
   ]
  },
  {
   "cell_type": "code",
   "execution_count": 10,
   "id": "5ede9b4e",
   "metadata": {},
   "outputs": [],
   "source": [
    "with open('../../new_and_improved/Database/password_update.sql', 'w') as f:\n",
    "    for user in app_user[1:]:\n",
    "        f.write(f'UPDATE app_user SET userpassword = md5(\"{user[1]}\") WHERE id = {user[0]};\\n')"
   ]
  }
 ],
 "metadata": {
  "kernelspec": {
   "display_name": "Python 3 (ipykernel)",
   "language": "python",
   "name": "python3"
  },
  "language_info": {
   "codemirror_mode": {
    "name": "ipython",
    "version": 3
   },
   "file_extension": ".py",
   "mimetype": "text/x-python",
   "name": "python",
   "nbconvert_exporter": "python",
   "pygments_lexer": "ipython3",
   "version": "3.9.13"
  }
 },
 "nbformat": 4,
 "nbformat_minor": 5
}
