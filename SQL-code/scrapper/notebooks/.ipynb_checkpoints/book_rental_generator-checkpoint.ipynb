{
 "cells": [
  {
   "cell_type": "code",
   "execution_count": 1,
   "id": "b75e3f6f",
   "metadata": {},
   "outputs": [
    {
     "name": "stderr",
     "output_type": "stream",
     "text": [
      "/Users/peteraugerinos/opt/anaconda3/lib/python3.9/site-packages/requests/__init__.py:89: RequestsDependencyWarning: urllib3 (1.26.15) or chardet (3.0.4) doesn't match a supported version!\n",
      "  warnings.warn(\"urllib3 ({}) or chardet ({}) doesn't match a supported \"\n"
     ]
    }
   ],
   "source": [
    "import mysql.connector\n",
    "import json\n",
    "import numpy as np\n",
    "import random\n",
    "import datetime\n",
    "import time"
   ]
  },
  {
   "cell_type": "code",
   "execution_count": 2,
   "id": "1285a170",
   "metadata": {},
   "outputs": [],
   "source": [
    "connection = mysql.connector.connect(\n",
    "    host = \"localhost\",\n",
    "    user = \"root\",\n",
    "    password = \"trage3dy\",\n",
    "    database = \"school_library\"\n",
    ")"
   ]
  },
  {
   "cell_type": "code",
   "execution_count": 3,
   "id": "c3ca2fb9",
   "metadata": {},
   "outputs": [],
   "source": [
    "cursor = connection.cursor(buffered=True)"
   ]
  },
  {
   "cell_type": "code",
   "execution_count": 4,
   "id": "b23e7e89",
   "metadata": {},
   "outputs": [],
   "source": [
    "with open('../data/books.json', 'r') as file:\n",
    "    data = json.load(file)"
   ]
  },
  {
   "cell_type": "markdown",
   "id": "388c757f",
   "metadata": {},
   "source": [
    "book_rental ( book_id, app_user_id, book_copy_id, request_datetime, rental_datetime, return_datetime, rental_status, priority, late_to_return)"
   ]
  },
  {
   "cell_type": "markdown",
   "id": "24ff2b1d",
   "metadata": {},
   "source": [
    "## In case of on the spot Rental"
   ]
  },
  {
   "cell_type": "code",
   "execution_count": 5,
   "id": "d8ecbd14",
   "metadata": {},
   "outputs": [],
   "source": [
    "def generate_random_date():\n",
    "    while True:\n",
    "        try:\n",
    "            date = datetime.date(random.randint(2008, 2022), \n",
    "                                       random.randint(1, 12), \n",
    "                                       random.randint(1, 30))\n",
    "            if date.weekday() in (5, 6):\n",
    "                raise (ValueError)\n",
    "            return date\n",
    "        except (ValueError):\n",
    "            continue"
   ]
  },
  {
   "cell_type": "code",
   "execution_count": 6,
   "id": "43d76d99",
   "metadata": {},
   "outputs": [],
   "source": [
    "def generate_random_timestamp():   \n",
    "    while True:\n",
    "        try:\n",
    "            time = datetime.time(random.randint(8, 15), \n",
    "                                       random.randint(0, 59), \n",
    "                                       random.randint(0, 59))\n",
    "            return time\n",
    "        except (ValueError):\n",
    "            continue"
   ]
  },
  {
   "cell_type": "code",
   "execution_count": 7,
   "id": "45a15cb3",
   "metadata": {},
   "outputs": [],
   "source": [
    "def generate_end_date(start_date):\n",
    "    while True:\n",
    "        try:\n",
    "            end_date = start_date + datetime.timedelta(days = random.randint(0,7))\n",
    "            if end_date.weekday() in (5, 6):\n",
    "                raise (ValueError)\n",
    "            return end_date\n",
    "        except (ValueError):\n",
    "            continue"
   ]
  },
  {
   "cell_type": "code",
   "execution_count": 8,
   "id": "cd5008e8",
   "metadata": {},
   "outputs": [],
   "source": [
    "start_time = generate_random_timestamp()\n",
    "end_time = generate_random_timestamp()"
   ]
  },
  {
   "cell_type": "code",
   "execution_count": 9,
   "id": "c652008c",
   "metadata": {},
   "outputs": [],
   "source": [
    "start_date = generate_random_date()\n",
    "end_date = generate_end_date(start_date)"
   ]
  },
  {
   "cell_type": "code",
   "execution_count": 10,
   "id": "86958265",
   "metadata": {},
   "outputs": [],
   "source": [
    "student_teacher_search_query = \"SELECT id FROM app_user WHERE user_role in ('student', 'teacher');\"\n",
    "cursor.execute(student_teacher_search_query)\n",
    "app_users_ids = cursor.fetchall()"
   ]
  },
  {
   "cell_type": "code",
   "execution_count": 11,
   "id": "5929acba",
   "metadata": {},
   "outputs": [],
   "source": [
    "book_search_query = \"SELECT id FROM book;\"\n",
    "cursor.execute(book_search_query)\n",
    "book_ids = cursor.fetchall()"
   ]
  },
  {
   "cell_type": "code",
   "execution_count": 12,
   "id": "d9d83fe1",
   "metadata": {},
   "outputs": [],
   "source": [
    "book_copy_search_query = \"SELECT book_copies_per_school.id FROM book_copies_per_school JOIN book ON book_copies_per_school.book_id = book.id WHERE book.id = 1;\"\n",
    "cursor.execute(book_copy_search_query)\n",
    "book_copies = cursor.fetchall()"
   ]
  },
  {
   "cell_type": "code",
   "execution_count": 13,
   "id": "536ad452",
   "metadata": {},
   "outputs": [
    {
     "data": {
      "text/plain": [
       "[(2162,),\n",
       " (2163,),\n",
       " (2164,),\n",
       " (2165,),\n",
       " (2166,),\n",
       " (2167,),\n",
       " (2168,),\n",
       " (2169,),\n",
       " (2170,),\n",
       " (2171,),\n",
       " (2172,),\n",
       " (2173,),\n",
       " (2174,),\n",
       " (2175,)]"
      ]
     },
     "execution_count": 13,
     "metadata": {},
     "output_type": "execute_result"
    }
   ],
   "source": [
    "book_copies"
   ]
  },
  {
   "cell_type": "code",
   "execution_count": 14,
   "id": "f3ba81e6",
   "metadata": {},
   "outputs": [
    {
     "data": {
      "text/plain": [
       "7"
      ]
     },
     "execution_count": 14,
     "metadata": {},
     "output_type": "execute_result"
    }
   ],
   "source": [
    "app_users_ids[0][0]"
   ]
  },
  {
   "cell_type": "code",
   "execution_count": 18,
   "id": "a492b834",
   "metadata": {},
   "outputs": [],
   "source": [
    "user_school_query = f\"SELECT school.id FROM school JOIN app_user ON school.id=app_user.school WHERE app_user.id={app_users_ids[0][0]};\"\n",
    "cursor.execute(user_school_query)\n",
    "school_of_user = cursor.fetchall()"
   ]
  },
  {
   "cell_type": "code",
   "execution_count": 20,
   "id": "23546516",
   "metadata": {},
   "outputs": [
    {
     "data": {
      "text/plain": [
       "2"
      ]
     },
     "execution_count": 20,
     "metadata": {},
     "output_type": "execute_result"
    }
   ],
   "source": [
    "school_of_user[0][0]"
   ]
  },
  {
   "cell_type": "code",
   "execution_count": 30,
   "id": "cf9ff386",
   "metadata": {},
   "outputs": [],
   "source": [
    "books_of_school_query = f\"SELECT DISTINCT book.id FROM book JOIN book_copies_per_school ON book_copies_per_school.book_id = book.id WHERE book_copies_per_school.school_id={school_of_user[0][0]};\"\n",
    "cursor.execute(books_of_school_query)\n",
    "books_available_to_user = cursor.fetchall()"
   ]
  },
  {
   "cell_type": "code",
   "execution_count": 32,
   "id": "94b1cbbe",
   "metadata": {},
   "outputs": [],
   "source": [
    "user_choice = random.choice(books_available_to_user)"
   ]
  },
  {
   "cell_type": "code",
   "execution_count": 33,
   "id": "2bf9f075",
   "metadata": {},
   "outputs": [
    {
     "data": {
      "text/plain": [
       "(12,)"
      ]
     },
     "execution_count": 33,
     "metadata": {},
     "output_type": "execute_result"
    }
   ],
   "source": [
    "user_choice"
   ]
  },
  {
   "cell_type": "code",
   "execution_count": 39,
   "id": "d696bd32",
   "metadata": {},
   "outputs": [],
   "source": [
    "book_copy_of_choice_query = f\"SELECT book_copies_per_school.id FROM book_copies_per_school JOIN book ON book_copies_per_school.book_id = book.id WHERE book.id = {user_choice[0]} AND book_copies_per_school.availability_status = 'available';\"\n",
    "cursor.execute(book_copy_of_choice_query)\n",
    "chosen_book_copy = cursor.fetchone()"
   ]
  },
  {
   "cell_type": "code",
   "execution_count": 40,
   "id": "76313768",
   "metadata": {},
   "outputs": [
    {
     "data": {
      "text/plain": [
       "918"
      ]
     },
     "execution_count": 40,
     "metadata": {},
     "output_type": "execute_result"
    }
   ],
   "source": [
    "chosen_book_copy[0]"
   ]
  },
  {
   "cell_type": "code",
   "execution_count": null,
   "id": "31b98d65",
   "metadata": {},
   "outputs": [],
   "source": [
    "cursor.execute(f\"UPDATE book_copies_per_school SET availability_status = 'engaged' WHERE id = {chosen_book_copy[0]};\")"
   ]
  },
  {
   "cell_type": "code",
   "execution_count": null,
   "id": "1d7de526",
   "metadata": {},
   "outputs": [],
   "source": []
  },
  {
   "cell_type": "code",
   "execution_count": null,
   "id": "9d50a5ab",
   "metadata": {},
   "outputs": [],
   "source": []
  },
  {
   "cell_type": "code",
   "execution_count": null,
   "id": "d984d6ad",
   "metadata": {},
   "outputs": [],
   "source": []
  },
  {
   "cell_type": "code",
   "execution_count": null,
   "id": "d864eaef",
   "metadata": {},
   "outputs": [],
   "source": []
  },
  {
   "cell_type": "code",
   "execution_count": null,
   "id": "31d39a92",
   "metadata": {},
   "outputs": [],
   "source": [
    "start_date = datetime.datetime.now()\n",
    "start_date"
   ]
  },
  {
   "cell_type": "code",
   "execution_count": null,
   "id": "5a88cf35",
   "metadata": {
    "scrolled": true
   },
   "outputs": [],
   "source": [
    "end_date = start_date + datetime.timedelta(days=0, hours=5)\n",
    "end_date"
   ]
  },
  {
   "cell_type": "code",
   "execution_count": null,
   "id": "3dfa9fd9",
   "metadata": {},
   "outputs": [],
   "source": [
    "time = datetime.time(18,0,0)"
   ]
  },
  {
   "cell_type": "code",
   "execution_count": null,
   "id": "3dd7da81",
   "metadata": {},
   "outputs": [],
   "source": [
    "f\"{time.hour}:{time.minute:02}:{time.second:02}\""
   ]
  },
  {
   "cell_type": "code",
   "execution_count": null,
   "id": "1653e84c",
   "metadata": {},
   "outputs": [],
   "source": []
  }
 ],
 "metadata": {
  "kernelspec": {
   "display_name": "Python 3 (ipykernel)",
   "language": "python",
   "name": "python3"
  },
  "language_info": {
   "codemirror_mode": {
    "name": "ipython",
    "version": 3
   },
   "file_extension": ".py",
   "mimetype": "text/x-python",
   "name": "python",
   "nbconvert_exporter": "python",
   "pygments_lexer": "ipython3",
   "version": "3.9.13"
  }
 },
 "nbformat": 4,
 "nbformat_minor": 5
}
