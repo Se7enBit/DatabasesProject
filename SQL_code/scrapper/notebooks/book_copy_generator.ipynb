{
 "cells": [
  {
   "cell_type": "code",
   "execution_count": 1,
   "id": "b9dcf9b3",
   "metadata": {
    "scrolled": true
   },
   "outputs": [
    {
     "name": "stderr",
     "output_type": "stream",
     "text": [
      "/Users/peteraugerinos/opt/anaconda3/lib/python3.9/site-packages/requests/__init__.py:89: RequestsDependencyWarning: urllib3 (1.26.15) or chardet (3.0.4) doesn't match a supported version!\n",
      "  warnings.warn(\"urllib3 ({}) or chardet ({}) doesn't match a supported \"\n"
     ]
    }
   ],
   "source": [
    "import mysql.connector\n",
    "import json\n",
    "import numpy as np\n",
    "import random"
   ]
  },
  {
   "cell_type": "code",
   "execution_count": 2,
   "id": "1b0d55cd",
   "metadata": {},
   "outputs": [],
   "source": [
    "connection = mysql.connector.connect(\n",
    "    host = \"localhost\",\n",
    "    user = \"root\",\n",
    "    password = \"trage3dy\",\n",
    "    database = \"school_library\"\n",
    ")"
   ]
  },
  {
   "cell_type": "code",
   "execution_count": 3,
   "id": "81dd6488",
   "metadata": {},
   "outputs": [],
   "source": [
    "cursor = connection.cursor(buffered=True)"
   ]
  },
  {
   "cell_type": "code",
   "execution_count": 4,
   "id": "a4e90954",
   "metadata": {},
   "outputs": [],
   "source": [
    "with open('../data/books.json', 'r') as file:\n",
    "    data = json.load(file)"
   ]
  },
  {
   "cell_type": "markdown",
   "id": "37fde39f",
   "metadata": {},
   "source": [
    "book_copies = [ book_id , school_id  ]"
   ]
  },
  {
   "cell_type": "code",
   "execution_count": 5,
   "id": "b5783ec7",
   "metadata": {},
   "outputs": [],
   "source": [
    "book_id_search_query = \"SELECT id FROM book;\""
   ]
  },
  {
   "cell_type": "code",
   "execution_count": 6,
   "id": "5f663fb2",
   "metadata": {},
   "outputs": [],
   "source": [
    "school_id_search_query = \"SELECT id FROM school;\""
   ]
  },
  {
   "cell_type": "code",
   "execution_count": 7,
   "id": "38232301",
   "metadata": {},
   "outputs": [],
   "source": [
    "cursor.execute(book_id_search_query)\n",
    "book_ids = cursor.fetchall()"
   ]
  },
  {
   "cell_type": "code",
   "execution_count": 8,
   "id": "9d61a446",
   "metadata": {},
   "outputs": [],
   "source": [
    "cursor.execute(school_id_search_query)\n",
    "school_ids = cursor.fetchall()"
   ]
  },
  {
   "cell_type": "code",
   "execution_count": 17,
   "id": "aeb580ba",
   "metadata": {},
   "outputs": [],
   "source": [
    "with open('../../new_and_improved/data_insertions.sql', 'a') as f:\n",
    "    for item in book_ids:\n",
    "        rand_schools = random.sample(school_ids, random.randint(0, 5))\n",
    "        for school in rand_schools:\n",
    "            for i in range(random.randint(0, 15)):\n",
    "                f.write(f\"INSERT INTO book_copies_per_school (book_id, school_id) VALUES ('{item[0]}', '{school[0]}');\\n\")"
   ]
  }
 ],
 "metadata": {
  "kernelspec": {
   "display_name": "Python 3 (ipykernel)",
   "language": "python",
   "name": "python3"
  },
  "language_info": {
   "codemirror_mode": {
    "name": "ipython",
    "version": 3
   },
   "file_extension": ".py",
   "mimetype": "text/x-python",
   "name": "python",
   "nbconvert_exporter": "python",
   "pygments_lexer": "ipython3",
   "version": "3.9.13"
  }
 },
 "nbformat": 4,
 "nbformat_minor": 5
}
